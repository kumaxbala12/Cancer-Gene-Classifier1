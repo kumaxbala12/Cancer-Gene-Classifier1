{
 "cells": [
  {
   "cell_type": "markdown",
   "id": "9b887693",
   "metadata": {},
   "source": [
    "# Cancer Gene Expression Classifier — EDA & Baseline Model\n",
    "\n",
    "This notebook performs:\n",
    "1) Basic EDA on RNA-seq expression matrix  \n",
    "2) Preprocessing (log transform, scaling, feature selection)  \n",
    "3) Baseline model training (Logistic Regression + Random Forest)  \n",
    "4) Evaluation (accuracy, classification report, ROC-AUC, confusion matrix)  \n",
    "5) Save artifacts (processed data, trained model, figures)\n",
    "\n",
    "> **Data expectation:** A CSV in `data/raw/` with shape `(samples × features)` where one column is the cancer **label** (e.g., `label`), and all other columns are gene expression features. Update the `RAW_DATA_PATH` and `LABEL_COL` below if your file names differ.\n"
   ]
  },
  {
   "cell_type": "code",
   "execution_count": null,
   "id": "123019fa",
   "metadata": {},
   "outputs": [],
   "source": [
    "# Paths & settings\n",
    "from pathlib import Path\n",
    "\n",
    "PROJECT_DIR = Path(\"/mnt/data/Cancer_Gene_Expression_Classifier\")\n",
    "RAW_DATA_PATH = PROJECT_DIR / \"data\" / \"raw\" / \"tcga_expression.csv\"  # <-- put your Kaggle CSV here\n",
    "PROCESSED_DIR = PROJECT_DIR / \"data\" / \"processed\"\n",
    "RESULTS_FIG_DIR = PROJECT_DIR / \"results\" / \"figures\"\n",
    "MODEL_DIR = PROJECT_DIR / \"results\" / \"models\"\n",
    "\n",
    "LABEL_COL = \"label\"  # <-- change to your label column name\n",
    "TEST_SIZE = 0.2\n",
    "RANDOM_STATE = 42\n",
    "\n",
    "PROCESSED_DIR.mkdir(parents=True, exist_ok=True)\n",
    "RESULTS_FIG_DIR.mkdir(parents=True, exist_ok=True)\n",
    "MODEL_DIR.mkdir(parents=True, exist_ok=True)\n",
    "\n",
    "RAW_DATA_PATH, PROCESSED_DIR, RESULTS_FIG_DIR, MODEL_DIR\n"
   ]
  },
  {
   "cell_type": "code",
   "execution_count": null,
   "id": "dc1c0cba",
   "metadata": {},
   "outputs": [],
   "source": [
    "# Imports\n",
    "import pandas as pd\n",
    "import numpy as np\n",
    "import matplotlib.pyplot as plt\n",
    "\n",
    "from sklearn.model_selection import train_test_split\n",
    "from sklearn.preprocessing import StandardScaler\n",
    "from sklearn.feature_selection import VarianceThreshold\n",
    "from sklearn.decomposition import PCA\n",
    "from sklearn.metrics import accuracy_score, classification_report, roc_auc_score, roc_curve, confusion_matrix\n",
    "\n",
    "from sklearn.linear_model import LogisticRegression\n",
    "from sklearn.ensemble import RandomForestClassifier\n",
    "\n",
    "import joblib\n"
   ]
  },
  {
   "cell_type": "code",
   "execution_count": null,
   "id": "13190859",
   "metadata": {},
   "outputs": [],
   "source": [
    "# Load data\n",
    "df = pd.read_csv(RAW_DATA_PATH)\n",
    "print(df.shape)\n",
    "df.head()"
   ]
  },
  {
   "cell_type": "markdown",
   "id": "de358aba",
   "metadata": {},
   "source": [
    "## Quick EDA"
   ]
  },
  {
   "cell_type": "code",
   "execution_count": null,
   "id": "bd5af618",
   "metadata": {},
   "outputs": [],
   "source": [
    "# Class balance\n",
    "class_counts = df[LABEL_COL].value_counts()\n",
    "print(class_counts)\n",
    "class_counts.plot(kind='bar', title='Class counts')\n",
    "plt.tight_layout()\n",
    "plt.savefig(RESULTS_FIG_DIR / \"class_counts.png\", dpi=200)\n",
    "plt.show()"
   ]
  },
  {
   "cell_type": "code",
   "execution_count": null,
   "id": "6f58ef6e",
   "metadata": {},
   "outputs": [],
   "source": [
    "# Basic stats of numeric features (first 10 columns shown for brevity)\n",
    "num_df = df.drop(columns=[LABEL_COL], errors='ignore').select_dtypes(include=[np.number])\n",
    "desc = num_df.iloc[:, :10].describe().T\n",
    "desc"
   ]
  },
  {
   "cell_type": "code",
   "execution_count": null,
   "id": "01689161",
   "metadata": {},
   "outputs": [],
   "source": [
    "# Missing values overview\n",
    "missing = df.isna().sum().sort_values(ascending=False)\n",
    "missing.head(20)"
   ]
  },
  {
   "cell_type": "markdown",
   "id": "bc9c5e57",
   "metadata": {},
   "source": [
    "## Preprocessing\n",
    "- Split train/test (stratified)\n",
    "- Log1p transform expression (optional)\n",
    "- Variance filter to drop near-constant genes\n",
    "- Standard scaling\n",
    "- Save processed splits\n"
   ]
  },
  {
   "cell_type": "code",
   "execution_count": null,
   "id": "fa51a26f",
   "metadata": {},
   "outputs": [],
   "source": [
    "# Split\n",
    "X = df.drop(columns=[LABEL_COL])\n",
    "y = df[LABEL_COL]\n",
    "\n",
    "X_train, X_test, y_train, y_test = train_test_split(\n",
    "    X, y, test_size=TEST_SIZE, random_state=RANDOM_STATE, stratify=y\n",
    ")\n",
    "\n",
    "# Log1p transform numeric features\n",
    "X_train = np.log1p(X_train)\n",
    "X_test  = np.log1p(X_test)\n",
    "\n",
    "# Variance threshold (remove near-constant features)\n",
    "vt = VarianceThreshold(threshold=0.0)\n",
    "X_train_vt = vt.fit_transform(X_train)\n",
    "X_test_vt  = vt.transform(X_test)\n",
    "\n",
    "# Standardize\n",
    "scaler = StandardScaler(with_mean=True, with_std=True)\n",
    "X_train_s = scaler.fit_transform(X_train_vt)\n",
    "X_test_s  = scaler.transform(X_test_vt)\n",
    "\n",
    "X_train_s.shape, X_test_s.shape"
   ]
  },
  {
   "cell_type": "code",
   "execution_count": null,
   "id": "2e1d8c50",
   "metadata": {},
   "outputs": [],
   "source": [
    "# Save processed data (optional previews as CSV)\n",
    "pd.DataFrame(X_train_s).to_csv(PROCESSED_DIR / \"X_train.csv\", index=False)\n",
    "pd.DataFrame(X_test_s).to_csv(PROCESSED_DIR / \"X_test.csv\", index=False)\n",
    "pd.Series(y_train).to_csv(PROCESSED_DIR / \"y_train.csv\", index=False)\n",
    "pd.Series(y_test).to_csv(PROCESSED_DIR / \"y_test.csv\", index=False)\n",
    "\n",
    "# Save transformers\n",
    "joblib.dump(vt, PROCESSED_DIR / \"variance_threshold.pkl\")\n",
    "joblib.dump(scaler, PROCESSED_DIR / \"scaler.pkl\")"
   ]
  },
  {
   "cell_type": "markdown",
   "id": "1c5be8c8",
   "metadata": {},
   "source": [
    "## Dimensionality reduction (PCA) for visualization"
   ]
  },
  {
   "cell_type": "code",
   "execution_count": null,
   "id": "09c4977d",
   "metadata": {},
   "outputs": [],
   "source": [
    "pca = PCA(n_components=2, random_state=RANDOM_STATE)\n",
    "X_train_pca = pca.fit_transform(X_train_s)\n",
    "\n",
    "plt.figure()\n",
    "plt.scatter(X_train_pca[:,0], X_train_pca[:,1])\n",
    "plt.title(\"PCA (train)\")\n",
    "plt.xlabel(\"PC1\")\n",
    "plt.ylabel(\"PC2\")\n",
    "plt.tight_layout()\n",
    "plt.savefig(RESULTS_FIG_DIR / \"pca_train.png\", dpi=200)\n",
    "plt.show()\n",
    "\n",
    "print(\"Explained variance (2 PCs):\", pca.explained_variance_ratio_.sum())"
   ]
  },
  {
   "cell_type": "markdown",
   "id": "7a49df9b",
   "metadata": {},
   "source": [
    "## Baseline models"
   ]
  },
  {
   "cell_type": "code",
   "execution_count": null,
   "id": "a7782e6d",
   "metadata": {},
   "outputs": [],
   "source": [
    "# Logistic Regression\n",
    "logreg = LogisticRegression(max_iter=2000, n_jobs=None)  # multi-class handled via softmax by default\n",
    "logreg.fit(X_train_s, y_train)\n",
    "y_pred_lr = logreg.predict(X_test_s)\n",
    "acc_lr = accuracy_score(y_test, y_pred_lr)\n",
    "print(\"Logistic Regression accuracy:\", acc_lr)\n",
    "\n",
    "# Random Forest\n",
    "rf = RandomForestClassifier(n_estimators=400, random_state=RANDOM_STATE, n_jobs=-1)\n",
    "rf.fit(X_train_s, y_train)\n",
    "y_pred_rf = rf.predict(X_test_s)\n",
    "acc_rf = accuracy_score(y_test, y_pred_rf)\n",
    "print(\"Random Forest accuracy:\", acc_rf)"
   ]
  },
  {
   "cell_type": "code",
   "execution_count": null,
   "id": "e1bb3303",
   "metadata": {},
   "outputs": [],
   "source": [
    "# Detailed classification report\n",
    "print(\"== Logistic Regression ==\")\n",
    "print(classification_report(y_test, y_pred_lr))\n",
    "print(\"\\n== Random Forest ==\")\n",
    "print(classification_report(y_test, y_pred_rf))"
   ]
  },
  {
   "cell_type": "code",
   "execution_count": null,
   "id": "7050dd3d",
   "metadata": {},
   "outputs": [],
   "source": [
    "# Confusion matrix (RF)\n",
    "import itertools\n",
    "\n",
    "cm = confusion_matrix(y_test, y_pred_rf, labels=sorted(y.unique()))\n",
    "plt.figure()\n",
    "plt.imshow(cm, interpolation='nearest')\n",
    "plt.title(\"Confusion Matrix (Random Forest)\")\n",
    "plt.colorbar()\n",
    "tick_marks = range(len(sorted(y.unique())))\n",
    "plt.xticks(tick_marks, sorted(y.unique()), rotation=90)\n",
    "plt.yticks(tick_marks, sorted(y.unique()))\n",
    "thresh = cm.max() / 2.\n",
    "for i, j in itertools.product(range(cm.shape[0]), range(cm.shape[1])):\n",
    "    plt.text(j, i, format(cm[i, j], 'd'),\n",
    "             horizontalalignment=\"center\")\n",
    "plt.ylabel('True label')\n",
    "plt.xlabel('Predicted label')\n",
    "plt.tight_layout()\n",
    "plt.savefig(RESULTS_FIG_DIR / \"confusion_matrix_rf.png\", dpi=200)\n",
    "plt.show()"
   ]
  },
  {
   "cell_type": "code",
   "execution_count": null,
   "id": "bd8e87bc",
   "metadata": {},
   "outputs": [],
   "source": [
    "# Multi-class ROC-AUC (One-vs-Rest)\n",
    "from sklearn.preprocessing import label_binarize\n",
    "from sklearn.metrics import roc_auc_score\n",
    "\n",
    "classes = sorted(y.unique())\n",
    "y_test_bin = label_binarize(y_test, classes=classes)\n",
    "\n",
    "# For RF, need predict_proba\n",
    "y_proba_rf = rf.predict_proba(X_test_s)\n",
    "try:\n",
    "    auc_ovr = roc_auc_score(y_test_bin, y_proba_rf, average=\"macro\", multi_class=\"ovr\")\n",
    "    print(\"Random Forest ROC-AUC (macro OVR):\", auc_ovr)\n",
    "except Exception as e:\n",
    "    print(\"ROC-AUC could not be computed:\", e)"
   ]
  },
  {
   "cell_type": "markdown",
   "id": "13ef3c95",
   "metadata": {},
   "source": [
    "## Save models"
   ]
  },
  {
   "cell_type": "code",
   "execution_count": null,
   "id": "4f72c120",
   "metadata": {},
   "outputs": [],
   "source": [
    "joblib.dump(logreg, MODEL_DIR / \"logreg.joblib\")\n",
    "joblib.dump(rf, MODEL_DIR / \"random_forest.joblib\")\n",
    "print(\"Saved models to:\", MODEL_DIR)"
   ]
  },
  {
   "cell_type": "markdown",
   "id": "30af1b58",
   "metadata": {},
   "source": [
    "## Next steps\n",
    "- Hyperparameter tuning (GridSearchCV / Optuna)\n",
    "- Add class-weighting if class imbalance is large\n",
    "- Try gradient boosting models\n",
    "- Feature importance analysis and pathway enrichment (e.g., using top genes by importance)\n",
    "- Export a clean `train.py` CLI script for reproducible runs\n"
   ]
  }
 ],
 "metadata": {},
 "nbformat": 4,
 "nbformat_minor": 5
}
